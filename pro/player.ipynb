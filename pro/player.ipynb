{
 "cells": [
  {
   "cell_type": "code",
   "execution_count": 1,
   "id": "0be16879-2495-4c84-80d1-5c5b43387a37",
   "metadata": {},
   "outputs": [],
   "source": [
    "import logging\n",
    "from selenium import webdriver\n",
    "from selenium.webdriver.chrome.options import Options\n",
    "from selenium.webdriver.common.by import By\n",
    "from selenium.webdriver.support.ui import WebDriverWait\n",
    "from selenium.webdriver.support import expected_conditions as EC\n",
    "import pyautogui\n",
    "import pandas as pd"
   ]
  },
  {
   "cell_type": "code",
   "execution_count": 2,
   "id": "61de9d28-d00f-4cc6-a17f-c2901a8e85d4",
   "metadata": {},
   "outputs": [],
   "source": [
    "import time\n",
    "\n",
    "url=\"https://www.transfermarkt.com/spieler-statistik/wertvollstespieler/marktwertetop\"\n",
    "\n",
    "driver = webdriver.Chrome()\n",
    "driver.get(url)\n",
    "\n",
    "# pyautogui.position()  \n",
    "\n",
    "\n",
    "time.sleep(6)\n",
    "pyautogui.moveTo(466,556)\n",
    "pyautogui.click()\n"
   ]
  },
  {
   "cell_type": "code",
   "execution_count": 4,
   "id": "6638aaa6-30ad-48be-83e2-47c882bdd311",
   "metadata": {},
   "outputs": [],
   "source": [
    "# players=[]\n",
    "\n",
    "\n",
    "# wait = WebDriverWait(driver, 10)\n",
    "# next_button = wait.until(\n",
    "#     EC.element_to_be_clickable((By.XPATH, \"//ul[@class='tm-pagination']/li[last()-1]/a\")),\n",
    "#     message=\"Next button not clickable\")\n",
    "\n",
    "# target_loc=next_button.location\n",
    "# driver.execute_script(\"window.scrollTo(arguments[0], arguments[1]);\", target_loc['x'], target_loc['y']-700)\n",
    "\n",
    "\n",
    "# #25 players per page\n",
    "# nb_players=500\n",
    "# max_page=int(nb_players/25)\n",
    "\n",
    "# for page in range(max_page):\n",
    "#     for num in range(1,26):\n",
    "#         age_element = driver.find_element(By.XPATH, f'//*[@id=\"yw1\"]/table/tbody/tr[{num}]/td[3]')\n",
    "#         age=age_element.text\n",
    "#         name=driver.find_element(By.XPATH,f'//*[@id=\"yw1\"]/table/tbody/tr[{num}]/td[2]/table/tbody/tr[1]/td[2]/a')\n",
    "#         position=driver.find_element(By.XPATH,f'//*[@id=\"yw1\"]/table/tbody/tr[{num}]/td[2]/table/tbody/tr[2]/td')\n",
    "#         club=driver.find_element(By.XPATH,f'//*[@id=\"yw1\"]/table/tbody/tr[{num}]/td[5]/a/img')\n",
    "#         value=driver.find_element(By.XPATH,f'//*[@id=\"yw1\"]/table/tbody/tr[{num}]/td[6]/a')\n",
    "\n",
    "#         nat_box=driver.find_element(By.XPATH,f'//*[@id=\"yw1\"]/table/tbody/tr[{num}]/td[4]')\n",
    "#         nationalities=nat_box.find_elements(By.CLASS_NAME,\"flaggenrahmen\")\n",
    "#         nat_list=[]\n",
    "#         for nat in nationalities:\n",
    "#             nat_list.append(nat.get_attribute(\"title\"))\n",
    "\n",
    "#         player=[\n",
    "#             name.text,\n",
    "#             position.text,int(age),\n",
    "#             \", \".join(nat_list),\n",
    "#             club.get_attribute(\"title\"),\n",
    "#             float(value.text[1:-1])\n",
    "#         ]\n",
    "#         players.append(player)\n",
    "\n",
    "#     if page <max_page-1:\n",
    "#         next_button.click()\n",
    "#         wait.until(EC.staleness_of(next_button))\n",
    "#         next_button = wait.until(\n",
    "#             EC.element_to_be_clickable((By.XPATH, \"//ul[@class='tm-pagination']/li[last()-1]/a\")),\n",
    "#             message=\"Next button not clickable\")\n",
    "#     else:\n",
    "#         break\n",
    "\n"
   ]
  },
  {
   "cell_type": "code",
   "execution_count": 4,
   "id": "217e5e42-e1f6-4153-b9cf-552f2d8ff9f0",
   "metadata": {},
   "outputs": [
    {
     "ename": "NameError",
     "evalue": "name 'players' is not defined",
     "output_type": "error",
     "traceback": [
      "\u001b[1;31m---------------------------------------------------------------------------\u001b[0m",
      "\u001b[1;31mNameError\u001b[0m                                 Traceback (most recent call last)",
      "Cell \u001b[1;32mIn[4], line 3\u001b[0m\n\u001b[0;32m      1\u001b[0m \u001b[38;5;66;03m# Let's load our data into a DataFrame\u001b[39;00m\n\u001b[1;32m----> 3\u001b[0m players_df\u001b[38;5;241m=\u001b[39mpd\u001b[38;5;241m.\u001b[39mDataFrame(\u001b[43mplayers\u001b[49m,columns\u001b[38;5;241m=\u001b[39m[\u001b[38;5;124m\"\u001b[39m\u001b[38;5;124mName\u001b[39m\u001b[38;5;124m\"\u001b[39m,\u001b[38;5;124m\"\u001b[39m\u001b[38;5;124mPosition\u001b[39m\u001b[38;5;124m\"\u001b[39m,\u001b[38;5;124m\"\u001b[39m\u001b[38;5;124mAge\u001b[39m\u001b[38;5;124m\"\u001b[39m,\u001b[38;5;124m\"\u001b[39m\u001b[38;5;124mNationalities\u001b[39m\u001b[38;5;124m\"\u001b[39m,\u001b[38;5;124m\"\u001b[39m\u001b[38;5;124mClub\u001b[39m\u001b[38;5;124m\"\u001b[39m,\u001b[38;5;124m\"\u001b[39m\u001b[38;5;124mMarket_value_(m€)\u001b[39m\u001b[38;5;124m\"\u001b[39m])\n\u001b[0;32m      4\u001b[0m players_df\n",
      "\u001b[1;31mNameError\u001b[0m: name 'players' is not defined"
     ]
    }
   ],
   "source": [
    "# Let's load our data into a DataFrame\n",
    "\n",
    "players_df=pd.DataFrame(players,columns=[\"Name\",\"Position\",\"Age\",\"Nationalities\",\"Club\",\"Market_value_(m€)\"])\n",
    "players_df"
   ]
  },
  {
   "cell_type": "code",
   "execution_count": 6,
   "id": "e10b0446-907d-4609-beef-12abf3840e54",
   "metadata": {},
   "outputs": [
    {
     "data": {
      "text/html": [
       "<div>\n",
       "<style scoped>\n",
       "    .dataframe tbody tr th:only-of-type {\n",
       "        vertical-align: middle;\n",
       "    }\n",
       "\n",
       "    .dataframe tbody tr th {\n",
       "        vertical-align: top;\n",
       "    }\n",
       "\n",
       "    .dataframe thead th {\n",
       "        text-align: right;\n",
       "    }\n",
       "</style>\n",
       "<table border=\"1\" class=\"dataframe\">\n",
       "  <thead>\n",
       "    <tr style=\"text-align: right;\">\n",
       "      <th></th>\n",
       "      <th>Market_value_(m€)</th>\n",
       "    </tr>\n",
       "    <tr>\n",
       "      <th>Club</th>\n",
       "      <th></th>\n",
       "    </tr>\n",
       "  </thead>\n",
       "  <tbody>\n",
       "    <tr>\n",
       "      <th>Real Madrid</th>\n",
       "      <td>1302.0</td>\n",
       "    </tr>\n",
       "    <tr>\n",
       "      <th>Manchester City</th>\n",
       "      <td>1213.0</td>\n",
       "    </tr>\n",
       "    <tr>\n",
       "      <th>Arsenal FC</th>\n",
       "      <td>1108.0</td>\n",
       "    </tr>\n",
       "    <tr>\n",
       "      <th>Bayern Munich</th>\n",
       "      <td>875.0</td>\n",
       "    </tr>\n",
       "    <tr>\n",
       "      <th>Chelsea FC</th>\n",
       "      <td>872.0</td>\n",
       "    </tr>\n",
       "    <tr>\n",
       "      <th>...</th>\n",
       "      <td>...</td>\n",
       "    </tr>\n",
       "    <tr>\n",
       "      <th>CR Flamengo</th>\n",
       "      <td>23.0</td>\n",
       "    </tr>\n",
       "    <tr>\n",
       "      <th>GNK Dinamo Zagreb</th>\n",
       "      <td>20.0</td>\n",
       "    </tr>\n",
       "    <tr>\n",
       "      <th>RC Strasbourg Alsace</th>\n",
       "      <td>20.0</td>\n",
       "    </tr>\n",
       "    <tr>\n",
       "      <th>Sevilla FC</th>\n",
       "      <td>20.0</td>\n",
       "    </tr>\n",
       "    <tr>\n",
       "      <th>UD Las Palmas</th>\n",
       "      <td>20.0</td>\n",
       "    </tr>\n",
       "  </tbody>\n",
       "</table>\n",
       "<p>75 rows × 1 columns</p>\n",
       "</div>"
      ],
      "text/plain": [
       "                      Market_value_(m€)\n",
       "Club                                   \n",
       "Real Madrid                      1302.0\n",
       "Manchester City                  1213.0\n",
       "Arsenal FC                       1108.0\n",
       "Bayern Munich                     875.0\n",
       "Chelsea FC                        872.0\n",
       "...                                 ...\n",
       "CR Flamengo                        23.0\n",
       "GNK Dinamo Zagreb                  20.0\n",
       "RC Strasbourg Alsace               20.0\n",
       "Sevilla FC                         20.0\n",
       "UD Las Palmas                      20.0\n",
       "\n",
       "[75 rows x 1 columns]"
      ]
     },
     "execution_count": 6,
     "metadata": {},
     "output_type": "execute_result"
    }
   ],
   "source": [
    "players_df.groupby(\"Club\").sum()[[\"Market_value_(m€)\"]].sort_values(\"Market_value_(m€)\",ascending=False)"
   ]
  },
  {
   "cell_type": "code",
   "execution_count": 7,
   "id": "c40af5c6-9bfc-4fb5-96aa-80d9a08e4737",
   "metadata": {},
   "outputs": [],
   "source": [
    "players_df.to_csv(\"players_mv_2024.csv\")\n"
   ]
  }
 ],
 "metadata": {
  "kernelspec": {
   "display_name": "Python 3 (ipykernel)",
   "language": "python",
   "name": "python3"
  },
  "language_info": {
   "codemirror_mode": {
    "name": "ipython",
    "version": 3
   },
   "file_extension": ".py",
   "mimetype": "text/x-python",
   "name": "python",
   "nbconvert_exporter": "python",
   "pygments_lexer": "ipython3",
   "version": "3.12.6"
  }
 },
 "nbformat": 4,
 "nbformat_minor": 5
}
